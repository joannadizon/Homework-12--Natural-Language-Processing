{
 "cells": [
  {
   "cell_type": "markdown",
   "id": "151c6545-568b-45f2-a797-20e5b51812b2",
   "metadata": {},
   "source": [
    "## Sentiment Analysis\n",
    "\n",
    "Use the newsapi to pull the latest news articles for Bitcoin and Ethereum and create a DataFrame of sentiment scores for each coin.\n",
    "\n",
    "Use descriptive statistics to answer the following questions:\n",
    "    1.Which coin had the highest mean positive score?\n",
    "    2. Which coin had the highest negative score?\n",
    "    3. Which coin had the highest positive score?"
   ]
  },
  {
   "cell_type": "code",
   "execution_count": 1,
   "id": "2b9f02cd",
   "metadata": {},
   "outputs": [
    {
     "name": "stdout",
     "output_type": "stream",
     "text": [
      "Requirement already satisfied: python-dotenv in c:\\users\\jpmdi\\anaconda3\\envs\\dev\\lib\\site-packages (0.20.0)\n",
      "Note: you may need to restart the kernel to use updated packages.\n"
     ]
    }
   ],
   "source": [
    "pip install python-dotenv"
   ]
  },
  {
   "cell_type": "code",
   "execution_count": 2,
   "id": "7290eb5d-cb5c-4502-a0f9-ae7ac39c36a9",
   "metadata": {},
   "outputs": [
    {
     "name": "stderr",
     "output_type": "stream",
     "text": [
      "[nltk_data] Downloading package vader_lexicon to\n",
      "[nltk_data]     C:\\Users\\jpmdi\\AppData\\Roaming\\nltk_data...\n"
     ]
    }
   ],
   "source": [
    "# Initial imports\n",
    "import os\n",
    "import pandas as pd\n",
    "from dotenv import load_dotenv\n",
    "import nltk as nltk\n",
    "nltk.download('vader_lexicon')\n",
    "from nltk.sentiment.vader import SentimentIntensityAnalyzer\n",
    "analyzer = SentimentIntensityAnalyzer()\n",
    "load_dotenv()\n",
    "\n",
    "%matplotlib inline"
   ]
  },
  {
   "cell_type": "code",
   "execution_count": null,
   "id": "2916ac97",
   "metadata": {},
   "outputs": [],
   "source": []
  },
  {
   "cell_type": "code",
   "execution_count": 3,
   "id": "d7513608-d614-444b-979c-9769c15890b0",
   "metadata": {},
   "outputs": [],
   "source": [
    "api_key =(\"34d0473c17c24afcb1997aad110bb7cc\")"
   ]
  },
  {
   "cell_type": "code",
   "execution_count": 4,
   "id": "d2eacde1-3f4b-46ff-aeec-67941a72a453",
   "metadata": {},
   "outputs": [
    {
     "ename": "ModuleNotFoundError",
     "evalue": "No module named 'newsapi'",
     "output_type": "error",
     "traceback": [
      "\u001b[1;31m---------------------------------------------------------------------------\u001b[0m",
      "\u001b[1;31mModuleNotFoundError\u001b[0m                       Traceback (most recent call last)",
      "\u001b[1;32m~\\AppData\\Local\\Temp/ipykernel_15824/2371959561.py\u001b[0m in \u001b[0;36m<module>\u001b[1;34m\u001b[0m\n\u001b[0;32m      1\u001b[0m \u001b[1;31m#Create a newsapi client\u001b[0m\u001b[1;33m\u001b[0m\u001b[1;33m\u001b[0m\u001b[1;33m\u001b[0m\u001b[0m\n\u001b[0;32m      2\u001b[0m \u001b[1;33m\u001b[0m\u001b[0m\n\u001b[1;32m----> 3\u001b[1;33m \u001b[1;32mfrom\u001b[0m \u001b[0mnewsapi\u001b[0m \u001b[1;32mimport\u001b[0m \u001b[0mNewsApiClient\u001b[0m\u001b[1;33m\u001b[0m\u001b[1;33m\u001b[0m\u001b[0m\n\u001b[0m\u001b[0;32m      4\u001b[0m \u001b[0mnewsapi\u001b[0m \u001b[1;33m=\u001b[0m \u001b[0mNewsApiClient\u001b[0m\u001b[1;33m(\u001b[0m\u001b[0mapi_key\u001b[0m \u001b[1;33m=\u001b[0m \u001b[0mapi_key\u001b[0m\u001b[1;33m)\u001b[0m\u001b[1;33m\u001b[0m\u001b[1;33m\u001b[0m\u001b[0m\n",
      "\u001b[1;31mModuleNotFoundError\u001b[0m: No module named 'newsapi'"
     ]
    }
   ],
   "source": [
    "#Create a newsapi client\n",
    "\n",
    "from newsapi import NewsApiClient\n",
    "newsapi = NewsApiClient(api_key = api_key)"
   ]
  },
  {
   "cell_type": "code",
   "execution_count": null,
   "id": "fdd43700-86d0-4e63-8e08-01e7823ff056",
   "metadata": {},
   "outputs": [],
   "source": [
    "# Fetch the Bitcoin news articles\n",
    "bitcoin_articles = newsapi.get_everything(q=\"Bitcoin\", language=\"en\", sort_by=\"relevancy\")\n"
   ]
  },
  {
   "cell_type": "code",
   "execution_count": null,
   "id": "efc5ccb6-b5e4-4897-ab03-dbd9c2667b08",
   "metadata": {},
   "outputs": [],
   "source": [
    "# Fetch the Ethereum news articles\n",
    "\n",
    "ethereum_articles = newsapi.get_everything(q='ethereum', language='en')\n"
   ]
  },
  {
   "cell_type": "code",
   "execution_count": null,
   "id": "ac77fb23-b137-4838-bfe3-e949db33a0e3",
   "metadata": {},
   "outputs": [],
   "source": [
    "# Create the Bitcoin sentiment scores DataFrame\n",
    "bitcoin_sentiments = []\n",
    "\n",
    "for article in bitcoin_articles[\"articles\"]:\n",
    "    try:\n",
    "        text = article[\"content\"]\n",
    "        date = article[\"publishedAt\"][:10]\n",
    "        sentiment = analyzer.polarity_scores(text)\n",
    "        compound = sentiment[\"compound\"]\n",
    "        pos = sentiment[\"pos\"]\n",
    "        neu = sentiment[\"neu\"]\n",
    "        neg = sentiment[\"neg\"]\n",
    "        \n",
    "        bitcoin_sentiments.append({\n",
    "            \"text\": text,\n",
    "            \"date\": date,\n",
    "            \"compound\": compound,\n",
    "            \"positive\": pos,\n",
    "            \"negative\": neg,\n",
    "            \"neutral\": neu\n",
    "            \n",
    "        })\n",
    "        \n",
    "    except AttributeError:\n",
    "        pass\n",
    "    \n",
    "# Create DataFrame\n",
    "bitcoin_df = pd.DataFrame(bitcoin_sentiments)\n",
    "bitcoin_df.head()"
   ]
  },
  {
   "cell_type": "code",
   "execution_count": null,
   "id": "d9067697-033d-4cc2-9444-cde013714822",
   "metadata": {},
   "outputs": [],
   "source": [
    "# Create the Ethereum sentiment scores DataFrame\n",
    "ethereum_sentiments = []\n",
    "\n",
    "for article in ethereum_articles[\"articles\"]:\n",
    "    try:\n",
    "        text = article[\"content\"]\n",
    "        date = article[\"publishedAt\"][:10]\n",
    "        sentiment = analyzer.polarity_scores(text)\n",
    "        compound = sentiment[\"compound\"]\n",
    "        pos = sentiment[\"pos\"]\n",
    "        neu = sentiment[\"neu\"]\n",
    "        neg = sentiment[\"neg\"]\n",
    "        \n",
    "        ethereum_sentiments.append({\n",
    "            \"text\": text,\n",
    "            \"date\": date,\n",
    "            \"compound\": compound,\n",
    "            \"positive\": pos,\n",
    "            \"negative\": neg,\n",
    "            \"neutral\": neu\n",
    "            \n",
    "        })\n",
    "        \n",
    "    except AttributeError:\n",
    "        pass\n",
    "    \n",
    "# Create DataFrame\n",
    "ethereum_df = pd.DataFrame(ethereum_sentiments)\n",
    "ethereum_df.head()"
   ]
  },
  {
   "cell_type": "code",
   "execution_count": null,
   "id": "b9663167-3daf-4b71-ba05-0bb57f3c800f",
   "metadata": {},
   "outputs": [],
   "source": [
    "# Describe the Bitcoin Sentiment\n",
    "\n",
    "bitcoin_df.describe()"
   ]
  },
  {
   "cell_type": "code",
   "execution_count": null,
   "id": "5444c4fd-f0a4-42a0-a2d0-fc0d6f53734c",
   "metadata": {},
   "outputs": [],
   "source": [
    "# Describe the Ethereum Sentiment\n",
    "\n",
    "ethereum_df.describe()"
   ]
  },
  {
   "cell_type": "markdown",
   "id": "9fd6423d-aec7-44a0-8e30-f4151c9f476a",
   "metadata": {},
   "source": [
    "### Questions:\n",
    "\n",
    "Q: Which coin had the highest mean positive score?\n",
    "\n",
    "A: Bitcoin has the highest mean positive score\n",
    "\n",
    "Q: Which coin had the highest compound score?\n",
    "\n",
    "A: Bitcoin has the highest compound score\n",
    "\n",
    "Q. Which coin had the highest positive score?\n",
    "\n",
    "A: Bitcoin has the highest positive score"
   ]
  },
  {
   "cell_type": "markdown",
   "id": "81af54ec-2048-4ff3-a6a2-e70febd2edfa",
   "metadata": {},
   "source": [
    "### Natural Language Processing"
   ]
  },
  {
   "cell_type": "markdown",
   "id": "6104a6f2-2129-404b-9e45-07299701fc1c",
   "metadata": {},
   "source": [
    "### Tokenizer"
   ]
  },
  {
   "cell_type": "markdown",
   "id": "1e453851-8854-4bd3-a9aa-fd43632a06f3",
   "metadata": {},
   "source": [
    "In this section, you will use NLTK and Python to tokenize the text for each coin. Be sure to:\n",
    "\n",
    "    1. Lowercase each word.\n",
    "    2. Remove Punctuation.\n",
    "    3. Remove Stopwords."
   ]
  },
  {
   "cell_type": "code",
   "execution_count": null,
   "id": "61ee6ca1-f2dd-4c9b-9b23-c19d093d653b",
   "metadata": {},
   "outputs": [],
   "source": [
    "from nltk.tokenize import word_tokenize, sent_tokenize\n",
    "from nltk.corpus import stopwords\n",
    "from nltk.stem import WordNetLemmatizer, PorterStemmer\n",
    "from string import punctuation\n",
    "import re"
   ]
  },
  {
   "cell_type": "code",
   "execution_count": null,
   "id": "0a65221e-663a-4b64-aa08-aa9ddf18e1de",
   "metadata": {},
   "outputs": [],
   "source": [
    "#Instantiate the lemmatizer\n",
    "lemmatizer = WordNetLemmatizer()\n",
    "#Create a list of stopwords\n",
    "sw = set(stopwords.words('english'))"
   ]
  },
  {
   "cell_type": "code",
   "execution_count": null,
   "id": "14329639-fad7-42b2-97ec-5b244088cfe5",
   "metadata": {},
   "outputs": [],
   "source": [
    "#Complete the tokenizer function\n",
    "def tokenizer(text):\n",
    "    \"\"\"Tokenizes text.\"\"\"\n",
    "    #Remove the punctuation from text\n",
    "    regex = re.compile(\"[^a-zA-Z ]\")\n",
    "    re_clean = regex.sub('',text)\n",
    "    \n",
    "    #Create a tokenized list of the words\n",
    "    words = word_tokenize(text)\n",
    "    \n",
    "    #Lemmatize words into root words\n",
    "    lem = [lemmatizer.lemmatize(word) for word in words]\n",
    "    \n",
    "    #Convert the words to lowercase\n",
    "    re_words = word_tokenize(re_clean)\n",
    "    \n",
    "    #Remove the stop words\n",
    "    re_result = [word.lower() for word in re_words if word.lower() not in sw]\n",
    "    \n",
    "    return re_result"
   ]
  },
  {
   "cell_type": "code",
   "execution_count": null,
   "id": "72654e1d-1497-42e1-8fbf-3703bef3ff74",
   "metadata": {},
   "outputs": [],
   "source": [
    "#create a new tokens column for Bitcoin\n",
    "bitcoin_df['tokens'] = bitcoin_df['text'].apply(tokenizer)\n",
    "bitcoin_df.head()"
   ]
  },
  {
   "cell_type": "code",
   "execution_count": null,
   "id": "70ff3e7f-87fb-4b29-872f-45bc5cfc9f9a",
   "metadata": {},
   "outputs": [],
   "source": [
    "#Create a new tokens column for Ethereum\n",
    "ethereum_df['tokens'] = ethereum_df['text'].apply(tokenizer)\n",
    "ethereum_df.head()"
   ]
  },
  {
   "cell_type": "markdown",
   "id": "eb3f3388-22b2-458a-84f4-13e6f3267250",
   "metadata": {},
   "source": [
    "### NGrams and Frequency Analysis\n",
    "\n",
    "In this section you will look at the ngrams and word frequency for each coin.\n",
    "\n",
    "1. Use NLTK to produce the n-grams for N = 2\n",
    "2. List the top 10 words for each coin."
   ]
  },
  {
   "cell_type": "code",
   "execution_count": null,
   "id": "f928c84d-db85-4456-9a71-cd7cf2fa15e2",
   "metadata": {},
   "outputs": [],
   "source": [
    "from collections import Counter\n",
    "from nltk import ngrams"
   ]
  },
  {
   "cell_type": "code",
   "execution_count": null,
   "id": "d63a2150-508a-40c9-8985-ec6778d54b48",
   "metadata": {},
   "outputs": [],
   "source": [
    "#Generate the Bitcoin N-grams where N=2\n",
    "bitcoin_a = tokenizer(bitcoin_df.text.str.cat())\n",
    "bitcoin_counts = Counter(ngrams(bitcoin_a,n=2))\n",
    "print(dict(bitcoin_counts))"
   ]
  },
  {
   "cell_type": "code",
   "execution_count": null,
   "id": "1d81d9cf-aa79-40c0-a052-4b98b99ebd4b",
   "metadata": {},
   "outputs": [],
   "source": [
    "#Generate the ethereum N-grams where N=2\n",
    "ethereum_a = tokenizer(ethereum_df.text.str.cat())\n",
    "ethereum_counts= Counter(ngrams(ethereum_a,n=2))\n",
    "print(dict(ethereum_counts))"
   ]
  },
  {
   "cell_type": "code",
   "execution_count": null,
   "id": "bfe5ddcc-019a-406c-9513-ccca041ad40f",
   "metadata": {},
   "outputs": [],
   "source": [
    "#Function token_count generates the top 10 words for a given coin\n",
    "def token_count(tokens,N=3):\n",
    "    \"\"\"Returns the top N tokens from the frequency count\"\"\"\n",
    "    return Counter(tokens).most_common(N)"
   ]
  },
  {
   "cell_type": "code",
   "execution_count": null,
   "id": "7266a329-466e-4a98-b5e4-a5761c250051",
   "metadata": {},
   "outputs": [],
   "source": [
    "#Use token_count to get the top 10 words for Bitcoin\n",
    "bitcoin_top_10 = token_count(bitcoin_a,10)\n",
    "bitcoin_top_10"
   ]
  },
  {
   "cell_type": "code",
   "execution_count": null,
   "id": "e10940fa-e716-4f48-8d07-39b0c642cbe1",
   "metadata": {},
   "outputs": [],
   "source": [
    "#Use token_count to get the top 10 words for Ethereum\n",
    "ethereum_top_10 = token_count(ethereum_a,10)\n",
    "ethereum_top_10"
   ]
  },
  {
   "cell_type": "markdown",
   "id": "8138d5a0-e393-40de-8f41-d0d0ea7f57ce",
   "metadata": {},
   "source": [
    "### Word Clouds\n",
    "\n",
    "In this section, you will generate word clouds for each coin to summarize the news for each coin"
   ]
  },
  {
   "cell_type": "code",
   "execution_count": null,
   "id": "9b423a21-a53d-47e5-b1bb-292e04fb1c27",
   "metadata": {},
   "outputs": [],
   "source": [
    "from wordcloud import WordCloud\n",
    "import matplotlib.pyplot as plt\n",
    "plt.style.use('seaborn-whitegrid')\n",
    "import matplotlib as mpl\n",
    "mpl.rcParams['figure.figsize']=[20.0,10.0]"
   ]
  },
  {
   "cell_type": "code",
   "execution_count": null,
   "id": "4d5680c8-b385-4c6b-a133-8b8c83313a30",
   "metadata": {},
   "outputs": [],
   "source": [
    "#Generate the Bitcoin word cloud\n",
    "wc = WordCloud().generate(bitcoin_df.text.str.cat())\n",
    "plt.imshow(wc)"
   ]
  },
  {
   "cell_type": "code",
   "execution_count": null,
   "id": "8a327c19-51b2-4070-9d90-f907fbf67fc7",
   "metadata": {},
   "outputs": [],
   "source": [
    "#Generate the Ethereum word cloud\n",
    "wc = WordCloud().generate(ethereum_df.text.str.cat())\n",
    "plt.imshow(wc)"
   ]
  },
  {
   "cell_type": "markdown",
   "id": "aa2f2ec3-3505-4863-a3d6-d34ab892281e",
   "metadata": {},
   "source": [
    "## 3. Named Entity Recognition\n",
    "\n",
    "In this section, you will build a named entity recognition model for both Bitcoin and Ethereum, then visualize the tags using SpaCy."
   ]
  },
  {
   "cell_type": "code",
   "execution_count": null,
   "id": "b3412dd4-335e-4082-8e44-4c9d3b4383a5",
   "metadata": {},
   "outputs": [],
   "source": [
    "import spacy\n",
    "from spacy import displacy"
   ]
  },
  {
   "cell_type": "code",
   "execution_count": null,
   "id": "d18b5dd5-4c79-4ba0-b55a-0dc80573386d",
   "metadata": {},
   "outputs": [],
   "source": [
    "#Download the language model for spacy\n",
    "!python -m spacy download en_core_web_sm"
   ]
  },
  {
   "cell_type": "code",
   "execution_count": null,
   "id": "5c7b5f98-448e-4371-b996-2b7f18bb5dd1",
   "metadata": {},
   "outputs": [],
   "source": [
    "#Load the spaCy model\n",
    "nlp = spacy.load('en_core_web_sm')"
   ]
  },
  {
   "cell_type": "markdown",
   "id": "0cb6f358-72b8-49bb-9c24-83a57d8dd137",
   "metadata": {},
   "source": [
    "## Bitcoin NER"
   ]
  },
  {
   "cell_type": "code",
   "execution_count": null,
   "id": "6fca738f-82ae-4ae2-9e78-af0f1aeea7a8",
   "metadata": {},
   "outputs": [],
   "source": [
    "#Concentrate all the Bitcoin text together\n",
    "concat_bitcoin = bitcoin_df.text.str.cat()\n",
    "concat_bitcoin"
   ]
  },
  {
   "cell_type": "code",
   "execution_count": null,
   "id": "3ac86db3-2545-4713-8a06-653cea831a57",
   "metadata": {},
   "outputs": [],
   "source": [
    "#Run the NER processor on all of the text\n",
    "bitcoin_doc = nlp(concat_bitcoin)\n",
    "bitcoin_doc\n",
    "\n",
    "#Add a title to the document\n",
    "bitcoin_doc.user_data['Title'] = 'Bitcoin NER'"
   ]
  },
  {
   "cell_type": "code",
   "execution_count": null,
   "id": "d325555f-9164-45a0-8fda-63e88cccd84c",
   "metadata": {},
   "outputs": [],
   "source": [
    "#Render the visualization\n",
    "displacy.render(bitcoin_doc, style = 'ent')"
   ]
  },
  {
   "cell_type": "code",
   "execution_count": null,
   "id": "6eb01885-573b-4abe-9280-feedb9e2646e",
   "metadata": {},
   "outputs": [],
   "source": [
    "#list all Entities\n",
    "for i in bitcoin_doc.ents:\n",
    "    print(i.text, i.label_)"
   ]
  },
  {
   "cell_type": "markdown",
   "id": "fbb06455-bf1c-40be-85bd-8834d56896ba",
   "metadata": {},
   "source": [
    "### Ethereum NER"
   ]
  },
  {
   "cell_type": "code",
   "execution_count": null,
   "id": "0041d8ce-7b54-48ac-8a0c-cc219288895a",
   "metadata": {},
   "outputs": [],
   "source": [
    "#Concatenate all of the Ethereum text together\n",
    "concat_ethereum = ethereum_df.text.str.cat()\n",
    "concat_ethereum"
   ]
  },
  {
   "cell_type": "code",
   "execution_count": null,
   "id": "c70742b0-2730-457f-8d8f-fc6b53ec14a0",
   "metadata": {},
   "outputs": [],
   "source": [
    "#Run the NER processor on all of the text\n",
    "ethereum_doc = nlp(concat_ethereum)\n",
    "ethereum_doc\n",
    "\n",
    "#Add a title to the document\n",
    "ethereum_doc.user_data['Title'] = 'Ethereum NER'"
   ]
  },
  {
   "cell_type": "code",
   "execution_count": null,
   "id": "6c4b9323-3eb5-4392-9c8c-4fc797d8b13a",
   "metadata": {},
   "outputs": [],
   "source": [
    "#Render the visualization\n",
    "displacy.render(ethereum_doc, style = 'ent')"
   ]
  },
  {
   "cell_type": "code",
   "execution_count": null,
   "id": "863902fe-e604-4e25-8a40-117491b6fb69",
   "metadata": {},
   "outputs": [],
   "source": [
    "#List all Entities\n",
    "for i in ethereum_doc.ents:\n",
    "    print(i.text, i.label_)"
   ]
  },
  {
   "cell_type": "code",
   "execution_count": null,
   "id": "66076e60-96e0-4a90-9988-5c4dee040a64",
   "metadata": {},
   "outputs": [],
   "source": []
  }
 ],
 "metadata": {
  "kernelspec": {
   "display_name": "Python 3 (ipykernel)",
   "language": "python",
   "name": "python3"
  },
  "language_info": {
   "codemirror_mode": {
    "name": "ipython",
    "version": 3
   },
   "file_extension": ".py",
   "mimetype": "text/x-python",
   "name": "python",
   "nbconvert_exporter": "python",
   "pygments_lexer": "ipython3",
   "version": "3.7.11"
  }
 },
 "nbformat": 4,
 "nbformat_minor": 5
}
